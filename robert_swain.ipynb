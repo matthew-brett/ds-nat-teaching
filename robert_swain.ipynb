{
 "cells": [
  {
   "cell_type": "markdown",
   "metadata": {},
   "source": [
    "# Robert Swain's jury\n",
    "\n",
    "In 1963, a court in Talladega County, Alabama convicted a young black man\n",
    "called Robert Swain sentenced him to death. He appealed his sentence, citing\n",
    "among other factors the all-white jury. At the time, only men aged 21 or older\n",
    "were allowed to serve on juries in Talladega County. In the county, 26% of the\n",
    "eligible jurors were black, but there were only 8 black men among the 100\n",
    "selected for the jury panel in Swain's trial.  The jury results from\n",
    "a selection process from the jury panel. No black man was selected for the\n",
    "trial jury.\n",
    "\n",
    "In 1965, the Supreme Court of the United States [denied Swain's\n",
    "appeal](https://en.wikipedia.org/wiki/Swain_v._Alabama). In its ruling, the\n",
    "Court wrote \"... the overall percentage disparity has been small and reflects\n",
    "no studied attempt to include or exclude a specified number of Negroes.\"\n",
    "\n",
    "The grounds of the appeal were that the jury *panel* (8 of 100 black men) was not representative of the population of the country, as was required by law.\n",
    "\n",
    "Here we investigate the *jury* (0 out of 12) black men.  Is 0 out 12 a surprising number?   If we took a random sample of 12 people from a population where 26% of them were black, how often would we see no black people in the sample of 12?"
   ]
  },
  {
   "cell_type": "code",
   "execution_count": 1,
   "metadata": {},
   "outputs": [],
   "source": [
    "# Some preliminaries.  We don't expect the student to understand\n",
    "# these until later in the course.\n",
    "import numpy as np\n",
    "import numpy.random as npr\n",
    "import matplotlib.pyplot as plt\n",
    "plt.style.use('fivethirtyeight')\n",
    "%matplotlib inline"
   ]
  },
  {
   "cell_type": "markdown",
   "metadata": {},
   "source": [
    "We need to work out some way of simulating the process of taking a random\n",
    "person from a population where there is a 26% chance of the person being\n",
    "black.\n",
    "\n",
    "If there was a 50% chance that the person was black, then we could do a coin toss to decide if our simulated juror was black. We might decide that heads means a black juror, and tails means a white juror.\n",
    "\n",
    "If there was a 25% chance, then we could do two coin tosses.  We could decided that two heads meant a black juror, and one or zero heads means a white juror.\n",
    "\n",
    "For 26%, we need something with a finer grain.\n",
    "\n",
    "One way is to take random numbers between 0 and 1.  We could say that we have\n",
    "a black juror if the number is less than 0.26 (which will happen 26% of the\n",
    "time).\n",
    "\n",
    "Here's how to get a random number between 0 and 1.\n",
    "\n",
    "We can run this cell a few times to show that we get different numbers, between 0 and 1."
   ]
  },
  {
   "cell_type": "code",
   "execution_count": 2,
   "metadata": {},
   "outputs": [
    {
     "data": {
      "text/plain": [
       "0.8720439749384046"
      ]
     },
     "execution_count": 2,
     "metadata": {},
     "output_type": "execute_result"
    }
   ],
   "source": [
    "npr.uniform()"
   ]
  },
  {
   "cell_type": "markdown",
   "metadata": {},
   "source": [
    "We are going to need to store this number for later use.  We can do that by attaching a label to it, such as \"juror\".  Then we can refer to the number by its label.  This is like a register in a calculator, or a cell in an Excel spreadsheet (A1, B9 etc would be the labels)."
   ]
  },
  {
   "cell_type": "code",
   "execution_count": 3,
   "metadata": {},
   "outputs": [
    {
     "data": {
      "text/plain": [
       "0.2400291209392027"
      ]
     },
     "execution_count": 3,
     "metadata": {},
     "output_type": "execute_result"
    }
   ],
   "source": [
    "juror = npr.uniform()\n",
    "juror"
   ]
  },
  {
   "cell_type": "markdown",
   "metadata": {},
   "source": [
    "Now we need to decide if the number is less than 0.26.  If so our simulation has found a black juror, otherwise we have a white juror."
   ]
  },
  {
   "cell_type": "code",
   "execution_count": 4,
   "metadata": {},
   "outputs": [
    {
     "data": {
      "text/plain": [
       "True"
      ]
     },
     "execution_count": 4,
     "metadata": {},
     "output_type": "execute_result"
    }
   ],
   "source": [
    "juror < 0.26"
   ]
  },
  {
   "cell_type": "markdown",
   "metadata": {},
   "source": [
    "Let's put those two lines of code together, to make a new random number, and then check if it is less than 0.26.  We can run this a few times to see that we get `True` about 26% of the time."
   ]
  },
  {
   "cell_type": "code",
   "execution_count": 5,
   "metadata": {},
   "outputs": [
    {
     "data": {
      "text/plain": [
       "False"
      ]
     },
     "execution_count": 5,
     "metadata": {},
     "output_type": "execute_result"
    }
   ],
   "source": [
    "juror = npr.uniform()\n",
    "juror < 0.26"
   ]
  },
  {
   "cell_type": "markdown",
   "metadata": {},
   "source": [
    "Of course we could run the cell above 12 times, and write down how many `True` values we see, but we'd like the computer to automate that for us.  In fact, we can ask the computer to make 12 random numbers at once, like this:"
   ]
  },
  {
   "cell_type": "code",
   "execution_count": 6,
   "metadata": {},
   "outputs": [
    {
     "data": {
      "text/plain": [
       "array([0.22180676, 0.1797728 , 0.61926017, 0.26107045, 0.78220271,\n",
       "       0.95995897, 0.08575194, 0.76324708, 0.82328335, 0.97454009,\n",
       "       0.21991182, 0.29153669])"
      ]
     },
     "execution_count": 6,
     "metadata": {},
     "output_type": "execute_result"
    }
   ],
   "source": [
    "jurors = npr.uniform(size=12)\n",
    "jurors"
   ]
  },
  {
   "cell_type": "markdown",
   "metadata": {},
   "source": [
    "And we can ask whether each of these numbers is less than 0.26, all in one go, like this:"
   ]
  },
  {
   "cell_type": "code",
   "execution_count": 7,
   "metadata": {},
   "outputs": [
    {
     "data": {
      "text/plain": [
       "array([False,  True, False, False, False, False, False, False, False,\n",
       "       False, False,  True])"
      ]
     },
     "execution_count": 7,
     "metadata": {},
     "output_type": "execute_result"
    }
   ],
   "source": [
    "jurors = npr.uniform(size=12)\n",
    "jurors < 0.26"
   ]
  },
  {
   "cell_type": "markdown",
   "metadata": {},
   "source": [
    "The comparison returns a sequence of 12 `True` or `False` values, where the `True` values correspond to random numbers that were less than 0.26, and the `False` values correspond to numbers that were greater than or equal to 0.26.\n",
    "\n",
    "Then, the `True` and `False` values indicate a black juror and a white juror respectively.\n",
    "\n",
    "We might want to make a label for this set of 12 `True` and `False` values,\n",
    "like this:"
   ]
  },
  {
   "cell_type": "code",
   "execution_count": 8,
   "metadata": {},
   "outputs": [
    {
     "data": {
      "text/plain": [
       "array([False, False, False, False, False, False, False, False,  True,\n",
       "        True, False, False])"
      ]
     },
     "execution_count": 8,
     "metadata": {},
     "output_type": "execute_result"
    }
   ],
   "source": [
    "jurors = npr.uniform(size=12)\n",
    "is_black = jurors < 0.26\n",
    "is_black"
   ]
  },
  {
   "cell_type": "markdown",
   "metadata": {},
   "source": [
    "The `is_black` label points to 12 values which can be either `True` or `False`.  The `True` values correspond to a black juror.  We want to count how many black jurors we found, which means counting the number of `True` values.  We can do this with the `count_nonzero` function, like this:"
   ]
  },
  {
   "cell_type": "code",
   "execution_count": 9,
   "metadata": {},
   "outputs": [
    {
     "data": {
      "text/plain": [
       "2"
      ]
     },
     "execution_count": 9,
     "metadata": {},
     "output_type": "execute_result"
    }
   ],
   "source": [
    "np.count_nonzero(is_black)"
   ]
  },
  {
   "cell_type": "markdown",
   "metadata": {},
   "source": [
    "We pull these three lines together to make a single cell to make a jury of 12 people, decide if each juror is black or white, and count the number of simulated black jurors.\n",
    "\n",
    "We can run this a few times to get an idea of how many times we see the value 0 (no black jurors in the jury of 12):"
   ]
  },
  {
   "cell_type": "code",
   "execution_count": 10,
   "metadata": {},
   "outputs": [
    {
     "data": {
      "text/plain": [
       "2"
      ]
     },
     "execution_count": 10,
     "metadata": {},
     "output_type": "execute_result"
    }
   ],
   "source": [
    "jurors = npr.uniform(size=12)\n",
    "is_black = jurors < 0.26\n",
    "np.count_nonzero(is_black)"
   ]
  },
  {
   "cell_type": "markdown",
   "metadata": {},
   "source": [
    "Rather than repeat these steps manually, we'd like the computer to do that for\n",
    "us.\n",
    "\n",
    "Let's say we want to repeat these steps 10 times, to make 10 simulated juries.\n",
    "\n",
    "We can first make a sequence of 10 values of 0, to store our counts.  When we have finished all our steps below, the first value will be the count of black jurors in the first jury we simulated, the second will be the count of black jurors in the second sample we simulated, and so on."
   ]
  },
  {
   "cell_type": "code",
   "execution_count": 11,
   "metadata": {},
   "outputs": [
    {
     "data": {
      "text/plain": [
       "array([0, 0, 0, 0, 0, 0, 0, 0, 0, 0])"
      ]
     },
     "execution_count": 11,
     "metadata": {},
     "output_type": "execute_result"
    }
   ],
   "source": [
    "counts = np.zeros(10, int)\n",
    "counts"
   ]
  },
  {
   "cell_type": "markdown",
   "metadata": {},
   "source": [
    "Now we use *loop* to repeat the steps above 10 times, and record the count of black jurors for each of these 10 simulated juries."
   ]
  },
  {
   "cell_type": "code",
   "execution_count": 12,
   "metadata": {},
   "outputs": [
    {
     "data": {
      "text/plain": [
       "array([4, 4, 0, 5, 7, 4, 5, 3, 1, 3])"
      ]
     },
     "execution_count": 12,
     "metadata": {},
     "output_type": "execute_result"
    }
   ],
   "source": [
    "counts = np.zeros(10, int)\n",
    "for i in range(10):\n",
    "    # Repeating the steps to simulated a jury.\n",
    "    jurors = npr.uniform(size=12)\n",
    "    is_black = jurors < 0.26\n",
    "    # Store the count of black jurors for this jury.\n",
    "    counts[i] = np.count_nonzero(is_black)\n",
    "counts"
   ]
  },
  {
   "cell_type": "markdown",
   "metadata": {},
   "source": [
    "How many of these 10 juries had 0 black jurors?\n",
    "\n",
    "The other way to ask this, is how may of the sequence of values in `counts` is equal to 0.\n",
    "\n",
    "We can ask which values are equal to 0 like this:"
   ]
  },
  {
   "cell_type": "code",
   "execution_count": 13,
   "metadata": {},
   "outputs": [
    {
     "data": {
      "text/plain": [
       "array([False, False,  True, False, False, False, False, False, False,\n",
       "       False])"
      ]
     },
     "execution_count": 13,
     "metadata": {},
     "output_type": "execute_result"
    }
   ],
   "source": [
    "counts == 0"
   ]
  },
  {
   "cell_type": "markdown",
   "metadata": {},
   "source": [
    "Now we have 10 `True` or `False` values where the `True` values correspond to counts that were equal to 0.\n",
    "\n",
    "The result in this case depends on our random numbers, but it turns out a count of 0 is a pretty rare value in these simulated juries, so there may well be no `True` values in `counts == 0` above.\n",
    "\n",
    "We can ask how many of the counts were equal to 0, like this:"
   ]
  },
  {
   "cell_type": "code",
   "execution_count": 14,
   "metadata": {},
   "outputs": [
    {
     "data": {
      "text/plain": [
       "1"
      ]
     },
     "execution_count": 14,
     "metadata": {},
     "output_type": "execute_result"
    }
   ],
   "source": [
    "np.count_nonzero(counts == 0)"
   ]
  },
  {
   "cell_type": "markdown",
   "metadata": {},
   "source": [
    "Now we have everything we need to do a much larger simulation.  We can simulate 10000 juries, in the blink of an eye."
   ]
  },
  {
   "cell_type": "code",
   "execution_count": 15,
   "metadata": {},
   "outputs": [
    {
     "data": {
      "text/plain": [
       "array([3, 3, 2, ..., 4, 6, 1])"
      ]
     },
     "execution_count": 15,
     "metadata": {},
     "output_type": "execute_result"
    }
   ],
   "source": [
    "# Make 10000 zeros, to store the counts for our 10000 juries.\n",
    "counts = np.zeros(10000, int)\n",
    "for i in range(10000):\n",
    "    jurors = npr.uniform(size=12)\n",
    "    is_black = jurors < 0.26\n",
    "    counts[i] = np.count_nonzero(is_black)\n",
    "counts"
   ]
  },
  {
   "cell_type": "markdown",
   "metadata": {},
   "source": [
    "We can do a histogram of the counts, to see which counts are common, and which are less common."
   ]
  },
  {
   "cell_type": "code",
   "execution_count": 16,
   "metadata": {},
   "outputs": [
    {
     "data": {
      "image/png": "[encoded data removed]",
      "text/plain": [
       "<Figure size 432x288 with 1 Axes>"
      ]
     },
     "metadata": {
      "needs_background": "light"
     },
     "output_type": "display_data"
    }
   ],
   "source": [
    "plt.hist(counts)\n",
    "plt.xlabel('Number of black jurors')\n",
    "plt.ylabel('Frequency');"
   ]
  },
  {
   "cell_type": "markdown",
   "metadata": {},
   "source": [
    "It looks like 0 is fairly uncommon.   How uncommon is it, exactly?\n",
    "\n",
    "Here we count how many of the 10000 juries had exactly 0 black jurors:"
   ]
  },
  {
   "cell_type": "code",
   "execution_count": 17,
   "metadata": {},
   "outputs": [
    {
     "data": {
      "text/plain": [
       "282"
      ]
     },
     "execution_count": 17,
     "metadata": {},
     "output_type": "execute_result"
    }
   ],
   "source": [
    "n_with_0_black = np.count_nonzero(counts == 0)\n",
    "n_with_0_black"
   ]
  },
  {
   "cell_type": "markdown",
   "metadata": {},
   "source": [
    "What is the chance that any one jury will have 0 black jurors?  It is just the number of simulations that generated that result, divided by the total number of simulations."
   ]
  },
  {
   "cell_type": "code",
   "execution_count": 18,
   "metadata": {},
   "outputs": [
    {
     "data": {
      "text/plain": [
       "0.0282"
      ]
     },
     "execution_count": 18,
     "metadata": {},
     "output_type": "execute_result"
    }
   ],
   "source": [
    "n_with_0_black / 10000"
   ]
  },
  {
   "cell_type": "markdown",
   "metadata": {},
   "source": [
    "This implies that 0 is a fairly unusual number of black jurors, given our\n",
    "model.\n",
    "\n",
    "Our model was that the jury members were chosen at random from the population\n",
    "where 26% were black.\n",
    "\n",
    "Maybe our model is wrong?  Maybe the jury members were not chosen at random?"
   ]
  }
 ],
 "metadata": {
  "jupytext": {
   "split_at_heading": true
  },
  "kernelspec": {
   "display_name": "Python 3",
   "language": "python",
   "name": "python3"
  },
  "language_info": {
   "codemirror_mode": {
    "name": "ipython",
    "version": 3
   },
   "file_extension": ".py",
   "mimetype": "text/x-python",
   "name": "python",
   "nbconvert_exporter": "python",
   "pygments_lexer": "ipython3",
   "version": "3.7.4"
  }
 },
 "nbformat": 4,
 "nbformat_minor": 2
}
